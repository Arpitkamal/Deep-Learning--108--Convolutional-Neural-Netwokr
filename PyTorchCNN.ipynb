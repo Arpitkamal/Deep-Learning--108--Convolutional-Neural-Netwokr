{
  "nbformat": 4,
  "nbformat_minor": 0,
  "metadata": {
    "colab": {
      "name": "PyTorchCNN.ipynb",
      "provenance": [],
      "authorship_tag": "ABX9TyO2ulUbrOjF8JdgU3suvdQZ",
      "include_colab_link": true
    },
    "kernelspec": {
      "name": "python3",
      "display_name": "Python 3"
    },
    "accelerator": "GPU"
  },
  "cells": [
    {
      "cell_type": "markdown",
      "metadata": {
        "id": "view-in-github",
        "colab_type": "text"
      },
      "source": [
        "<a href=\"https://colab.research.google.com/github/Arpitkamal/Deep-Learning--108--Convolutional-Neural-Network/blob/master/PyTorchCNN.ipynb\" target=\"_parent\"><img src=\"https://colab.research.google.com/assets/colab-badge.svg\" alt=\"Open In Colab\"/></a>"
      ]
    },
    {
      "cell_type": "markdown",
      "metadata": {
        "id": "F4l65KNytGUq",
        "colab_type": "text"
      },
      "source": [
        "Outline\n",
        "\n",
        "\n",
        "*   Downloading dataset (CIFAR10)\n",
        "*   Dataloader in torch.utils\n",
        "*   Visualising images\n",
        "*   Single and mutliple convolutional layers\n",
        "*   LeNet\n",
        "*   Training LeNet\n",
        "*   Training on GPU\n",
        "*   Simplr visualisation\n",
        "*   Exercises\n",
        "\n",
        "\n"
      ]
    },
    {
      "cell_type": "code",
      "metadata": {
        "id": "9J2grB1psjOC",
        "colab_type": "code",
        "colab": {}
      },
      "source": [
        "import torch\n",
        "import matplotlib.pyplot as plt\n",
        "import numpy as np"
      ],
      "execution_count": 0,
      "outputs": []
    },
    {
      "cell_type": "markdown",
      "metadata": {
        "id": "5fPHIVIyuAZ7",
        "colab_type": "text"
      },
      "source": [
        "# Data loading"
      ]
    },
    {
      "cell_type": "code",
      "metadata": {
        "id": "xYYEAzJ8t-mN",
        "colab_type": "code",
        "outputId": "78a6604e-7b99-4b5b-d666-7c8d451df218",
        "colab": {
          "base_uri": "https://localhost:8080/",
          "height": 34
        }
      },
      "source": [
        "import torchvision\n",
        "import torchvision.transforms as transforms\n",
        "trainset = torchvision.datasets.CIFAR10(root='./data', train=True, download=True, transform=transforms.ToTensor())"
      ],
      "execution_count": 2,
      "outputs": [
        {
          "output_type": "stream",
          "text": [
            "Files already downloaded and verified\n"
          ],
          "name": "stdout"
        }
      ]
    },
    {
      "cell_type": "code",
      "metadata": {
        "id": "NmrN75Rnuhdl",
        "colab_type": "code",
        "colab": {}
      },
      "source": [
        "classes = ['plane', 'car', 'bird', 'cat', 'deer', 'dog', 'frog', 'horse', 'ship', 'truck']"
      ],
      "execution_count": 0,
      "outputs": []
    },
    {
      "cell_type": "code",
      "metadata": {
        "id": "HbgOglSCu1Dn",
        "colab_type": "code",
        "colab": {}
      },
      "source": [
        "trainloader = torch.utils.data.DataLoader(trainset, batch_size=4, shuffle=True, num_workers=2)"
      ],
      "execution_count": 0,
      "outputs": []
    },
    {
      "cell_type": "code",
      "metadata": {
        "id": "-DabEvtIvQGt",
        "colab_type": "code",
        "outputId": "05f65270-c0ed-45ad-cec6-f9287fe1e2a6",
        "colab": {
          "base_uri": "https://localhost:8080/",
          "height": 68
        }
      },
      "source": [
        "dataiter = iter(trainloader)\n",
        "images, labels = dataiter.next()\n",
        "\n",
        "print(images.shape)\n",
        "\n",
        "print(images[0].shape)\n",
        "print(labels[0].item())"
      ],
      "execution_count": 5,
      "outputs": [
        {
          "output_type": "stream",
          "text": [
            "torch.Size([4, 3, 32, 32])\n",
            "torch.Size([3, 32, 32])\n",
            "7\n"
          ],
          "name": "stdout"
        }
      ]
    },
    {
      "cell_type": "markdown",
      "metadata": {
        "id": "mV9KJD8pzNYB",
        "colab_type": "text"
      },
      "source": [
        "# Visualise data"
      ]
    },
    {
      "cell_type": "code",
      "metadata": {
        "id": "BJ38G2S1vrPu",
        "colab_type": "code",
        "outputId": "fa6b0cd9-2c12-4add-962f-6b6ee4179a2d",
        "colab": {
          "base_uri": "https://localhost:8080/",
          "height": 34
        }
      },
      "source": [
        "img = images[0]\n",
        "print(type(img))"
      ],
      "execution_count": 6,
      "outputs": [
        {
          "output_type": "stream",
          "text": [
            "<class 'torch.Tensor'>\n"
          ],
          "name": "stdout"
        }
      ]
    },
    {
      "cell_type": "code",
      "metadata": {
        "id": "y3-JMhAGzVLT",
        "colab_type": "code",
        "outputId": "b8554b61-653c-4f8c-cb44-61cf06829e88",
        "colab": {
          "base_uri": "https://localhost:8080/",
          "height": 34
        }
      },
      "source": [
        "npimg = img.numpy()\n",
        "print(npimg.shape)"
      ],
      "execution_count": 7,
      "outputs": [
        {
          "output_type": "stream",
          "text": [
            "(3, 32, 32)\n"
          ],
          "name": "stdout"
        }
      ]
    },
    {
      "cell_type": "code",
      "metadata": {
        "id": "4XyLr6u_zcMo",
        "colab_type": "code",
        "outputId": "0f9b00cd-a675-4d93-ff26-726cdcacdd15",
        "colab": {
          "base_uri": "https://localhost:8080/",
          "height": 34
        }
      },
      "source": [
        "npimg = np.transpose(npimg, (1,2,0))\n",
        "print(npimg.shape)"
      ],
      "execution_count": 8,
      "outputs": [
        {
          "output_type": "stream",
          "text": [
            "(32, 32, 3)\n"
          ],
          "name": "stdout"
        }
      ]
    },
    {
      "cell_type": "code",
      "metadata": {
        "id": "q9r35fxnz6a_",
        "colab_type": "code",
        "outputId": "1289a470-72ca-42ba-d565-405544030fd5",
        "colab": {
          "base_uri": "https://localhost:8080/",
          "height": 105
        }
      },
      "source": [
        "plt.figure(figsize= (1,1))\n",
        "plt.imshow(npimg)\n",
        "plt.show()"
      ],
      "execution_count": 9,
      "outputs": [
        {
          "output_type": "display_data",
          "data": {
            "image/png": "[encoded data removed]",
            "text/plain": [
              "<Figure size 72x72 with 1 Axes>"
            ]
          },
          "metadata": {
            "tags": [],
            "needs_background": "light"
          }
        }
      ]
    },
    {
      "cell_type": "code",
      "metadata": {
        "id": "PDeCv51k0D5z",
        "colab_type": "code",
        "colab": {}
      },
      "source": [
        "def imshow(img):\n",
        "  npimg = img.numpy()\n",
        "  plt.imshow(np.transpose(npimg, (1, 2, 0)))\n",
        "  plt.show()"
      ],
      "execution_count": 0,
      "outputs": []
    },
    {
      "cell_type": "code",
      "metadata": {
        "id": "VuxxgajW0_YU",
        "colab_type": "code",
        "outputId": "35d56ed9-4a49-457b-92de-7d58e006caf3",
        "colab": {
          "base_uri": "https://localhost:8080/",
          "height": 155
        }
      },
      "source": [
        "imshow(torchvision.utils.make_grid(images))\n",
        "print(' '.join(classes[labels[j]] for j in range(4)))"
      ],
      "execution_count": 11,
      "outputs": [
        {
          "output_type": "display_data",
          "data": {
            "image/png": "[encoded data removed]",
            "text/plain": [
              "<Figure size 432x288 with 1 Axes>"
            ]
          },
          "metadata": {
            "tags": [],
            "needs_background": "light"
          }
        },
        {
          "output_type": "stream",
          "text": [
            "horse frog truck truck\n"
          ],
          "name": "stdout"
        }
      ]
    },
    {
      "cell_type": "markdown",
      "metadata": {
        "id": "FWrH7OG1z0GS",
        "colab_type": "text"
      },
      "source": [
        "# Single Convolutional Layer"
      ]
    },
    {
      "cell_type": "code",
      "metadata": {
        "id": "vLZEFb_w1QoJ",
        "colab_type": "code",
        "colab": {}
      },
      "source": [
        "import torch.nn as nn\n",
        "\n",
        "class FirstCNN(nn.Module):\n",
        "  def __init__(self):\n",
        "    super(FirstCNN, self).__init__()\n",
        "    self.conv1 = nn.Conv2d(3, 16, 3) #(no. of channel in each image(RGB), no of kernals, kernalsize)padding = (1,1), stride= (2,2)\n",
        "\n",
        "  def forward(self, x):\n",
        "    x = self.conv1(x)\n",
        "    return x  "
      ],
      "execution_count": 0,
      "outputs": []
    },
    {
      "cell_type": "code",
      "metadata": {
        "id": "Vjejt7ke10LG",
        "colab_type": "code",
        "colab": {}
      },
      "source": [
        "net = FirstCNN()"
      ],
      "execution_count": 0,
      "outputs": []
    },
    {
      "cell_type": "code",
      "metadata": {
        "id": "DXEnCMx7120e",
        "colab_type": "code",
        "outputId": "caed8123-279a-423b-92da-20bab1f3d723",
        "colab": {
          "base_uri": "https://localhost:8080/",
          "height": 34
        }
      },
      "source": [
        "out = net(images)\n",
        "out.shape"
      ],
      "execution_count": 14,
      "outputs": [
        {
          "output_type": "execute_result",
          "data": {
            "text/plain": [
              "torch.Size([4, 16, 30, 30])"
            ]
          },
          "metadata": {
            "tags": []
          },
          "execution_count": 14
        }
      ]
    },
    {
      "cell_type": "markdown",
      "metadata": {
        "id": "seKxU4xf2LJg",
        "colab_type": "text"
      },
      "source": [
        "batch size= 4, output channel = 16 , x =30, y=30 initialy it was 32 "
      ]
    },
    {
      "cell_type": "code",
      "metadata": {
        "id": "riR6Hkje2P_A",
        "colab_type": "code",
        "outputId": "7d522ae6-7e0e-478e-9668-b568021075d1",
        "colab": {
          "base_uri": "https://localhost:8080/",
          "height": 51
        }
      },
      "source": [
        "for param in net.parameters():\n",
        "  print(param.shape)"
      ],
      "execution_count": 15,
      "outputs": [
        {
          "output_type": "stream",
          "text": [
            "torch.Size([16, 3, 3, 3])\n",
            "torch.Size([16])\n"
          ],
          "name": "stdout"
        }
      ]
    },
    {
      "cell_type": "markdown",
      "metadata": {
        "id": "G_pRWksQ3oTX",
        "colab_type": "text"
      },
      "source": [
        "no of channel = 16, channel size(RGB)=3, kernalsize = 3*3\n",
        "\n",
        "each kernal have 1 bias term"
      ]
    },
    {
      "cell_type": "code",
      "metadata": {
        "id": "iM9twPBv2B7S",
        "colab_type": "code",
        "outputId": "909350f7-48e1-4dd5-c857-57bd675e5228",
        "colab": {
          "base_uri": "https://localhost:8080/",
          "height": 34
        }
      },
      "source": [
        "out1 = out[0, 0, :, :].detach().numpy()\n",
        "print(out1.shape)"
      ],
      "execution_count": 16,
      "outputs": [
        {
          "output_type": "stream",
          "text": [
            "(30, 30)\n"
          ],
          "name": "stdout"
        }
      ]
    },
    {
      "cell_type": "markdown",
      "metadata": {
        "id": "BtNXNI4x48MQ",
        "colab_type": "text"
      },
      "source": [
        "feature representation of 0th batch, 0th kernal "
      ]
    },
    {
      "cell_type": "code",
      "metadata": {
        "id": "AUtoNVX44dLQ",
        "colab_type": "code",
        "outputId": "5bce7dfc-2646-4490-8fcc-1e3ef84c1e1e",
        "colab": {
          "base_uri": "https://localhost:8080/",
          "height": 266
        }
      },
      "source": [
        "plt.imshow(out[0,0,:,:].detach().numpy())\n",
        "plt.show()"
      ],
      "execution_count": 17,
      "outputs": [
        {
          "output_type": "display_data",
          "data": {
            "image/png": "[encoded data removed]",
            "text/plain": [
              "<Figure size 432x288 with 1 Axes>"
            ]
          },
          "metadata": {
            "tags": [],
            "needs_background": "light"
          }
        }
      ]
    },
    {
      "cell_type": "markdown",
      "metadata": {
        "id": "diHxwbTD6P1l",
        "colab_type": "text"
      },
      "source": [
        "# Deep Convolutional Network"
      ]
    },
    {
      "cell_type": "code",
      "metadata": {
        "id": "DUH5baBf5QNV",
        "colab_type": "code",
        "colab": {}
      },
      "source": [
        "class FirstCNN_v2(nn.Module):\n",
        "  def __init__(self):\n",
        "    super(FirstCNN_v2, self).__init__()\n",
        "    self.model = nn.Sequential(\n",
        "        nn.Conv2d(3, 8, 3), # (N, 3, 32, 32) -> (N, 8, 30, 30)\n",
        "        nn.Conv2d(8, 16, 3) # (N, 8, 30, 30) -> (N, 16, 28, 28)\n",
        "    )\n",
        "\n",
        "  def forward(self, x):\n",
        "    x = self.model(x)\n",
        "    return x  "
      ],
      "execution_count": 0,
      "outputs": []
    },
    {
      "cell_type": "code",
      "metadata": {
        "id": "ImGZ0mUM6252",
        "colab_type": "code",
        "outputId": "7bcdc913-51c8-42a4-c06b-aef6d64a8041",
        "colab": {
          "base_uri": "https://localhost:8080/",
          "height": 34
        }
      },
      "source": [
        "net = FirstCNN_v2()\n",
        "out = net(images)\n",
        "out.shape"
      ],
      "execution_count": 19,
      "outputs": [
        {
          "output_type": "execute_result",
          "data": {
            "text/plain": [
              "torch.Size([4, 16, 28, 28])"
            ]
          },
          "metadata": {
            "tags": []
          },
          "execution_count": 19
        }
      ]
    },
    {
      "cell_type": "code",
      "metadata": {
        "id": "mAH4R_9C6_nP",
        "colab_type": "code",
        "outputId": "02494c35-53b2-4830-a148-7eb340019298",
        "colab": {
          "base_uri": "https://localhost:8080/",
          "height": 282
        }
      },
      "source": [
        "plt.imshow(out[0, 0, :,:].detach().numpy())"
      ],
      "execution_count": 20,
      "outputs": [
        {
          "output_type": "execute_result",
          "data": {
            "text/plain": [
              "<matplotlib.image.AxesImage at 0x7f45e23482b0>"
            ]
          },
          "metadata": {
            "tags": []
          },
          "execution_count": 20
        },
        {
          "output_type": "display_data",
          "data": {
            "image/png": "[encoded data removed]",
            "text/plain": [
              "<Figure size 432x288 with 1 Axes>"
            ]
          },
          "metadata": {
            "tags": [],
            "needs_background": "light"
          }
        }
      ]
    },
    {
      "cell_type": "code",
      "metadata": {
        "id": "4PTn913Q8GQT",
        "colab_type": "code",
        "colab": {}
      },
      "source": [
        "class FirstCNN_v3(nn.Module):\n",
        "  def __init__(self):\n",
        "    super(FirstCNN_v3, self).__init__()\n",
        "    self.model = nn.Sequential(\n",
        "        nn.Conv2d(3, 6, 5), # (N, 3, 32, 32) -> (N, 6, 28, 28)\n",
        "        nn.AvgPool2d(2, stride=2), #(N, 6, 28, 28) -> (N, 6, 14, 14)\n",
        "        nn.Conv2d(6, 16, 5), # (N, 6, 14, 14) -> (N, 16, 10, 10)\n",
        "        nn.AvgPool2d(2, stride=2) #(N, 16, 10, 10) -> (N, 16, 5, 5)\n",
        "    )\n",
        "\n",
        "  def forward(self, x):\n",
        "    x = self.model(x)\n",
        "    return x  "
      ],
      "execution_count": 0,
      "outputs": []
    },
    {
      "cell_type": "code",
      "metadata": {
        "id": "XiX2oVg38v4q",
        "colab_type": "code",
        "outputId": "c09de547-8e60-4267-9316-4cafae3027a9",
        "colab": {
          "base_uri": "https://localhost:8080/",
          "height": 34
        }
      },
      "source": [
        "net = FirstCNN_v3()\n",
        "out = net(images)\n",
        "out.shape"
      ],
      "execution_count": 22,
      "outputs": [
        {
          "output_type": "execute_result",
          "data": {
            "text/plain": [
              "torch.Size([4, 16, 5, 5])"
            ]
          },
          "metadata": {
            "tags": []
          },
          "execution_count": 22
        }
      ]
    },
    {
      "cell_type": "code",
      "metadata": {
        "id": "fUgRBW0P8xAZ",
        "colab_type": "code",
        "outputId": "9b778b12-c581-414d-f9e8-ffb533040ea4",
        "colab": {
          "base_uri": "https://localhost:8080/",
          "height": 282
        }
      },
      "source": [
        "plt.imshow(out[0, 0, :,:].detach().numpy())"
      ],
      "execution_count": 23,
      "outputs": [
        {
          "output_type": "execute_result",
          "data": {
            "text/plain": [
              "<matplotlib.image.AxesImage at 0x7f45e232b518>"
            ]
          },
          "metadata": {
            "tags": []
          },
          "execution_count": 23
        },
        {
          "output_type": "display_data",
          "data": {
            "image/png": "[encoded data removed]",
            "text/plain": [
              "<Figure size 432x288 with 1 Axes>"
            ]
          },
          "metadata": {
            "tags": [],
            "needs_background": "light"
          }
        }
      ]
    },
    {
      "cell_type": "markdown",
      "metadata": {
        "id": "9aD0YG5n-PAP",
        "colab_type": "text"
      },
      "source": [
        "# LeNet"
      ]
    },
    {
      "cell_type": "markdown",
      "metadata": {
        "id": "FQDl20OeFUGT",
        "colab_type": "text"
      },
      "source": [
        "we are instantiating the tensors "
      ]
    },
    {
      "cell_type": "code",
      "metadata": {
        "id": "Qh7D_wPW9y-n",
        "colab_type": "code",
        "colab": {}
      },
      "source": [
        "class LeNet(nn.Module):\n",
        "  def __init__(self):\n",
        "    super(LeNet, self).__init__()\n",
        "    self.cnn_model = nn.Sequential(\n",
        "        nn.Conv2d(3, 6, 5),                                # (N, 3, 32, 32) -> (N, 6, 28, 28)\n",
        "        nn.Tanh(),\n",
        "        nn.AvgPool2d(2, stride=2),                         #(N, 6, 28, 28) -> (N, 6, 14, 14)\n",
        "        nn.Conv2d(6, 16, 5),                               # (N, 6, 14, 14) -> (N, 16, 10, 10)\n",
        "        nn.Tanh(),\n",
        "        nn.AvgPool2d(2, stride=2)                          #(N, 16, 10, 10) -> (N, 16, 5, 5)\n",
        "    )\n",
        "    self.fc_model = nn.Sequential(\n",
        "        nn.Linear(400, 120),                               # (N, 400) -> (N, 120)   reshaping\n",
        "        nn.Tanh(),\n",
        "        nn.Linear(120, 84),                                # (N, 120) -> (N, 84)   \n",
        "        nn.Tanh(),\n",
        "        nn.Linear(84,10)                                   # (N, 84) -> (N, 10) \n",
        "    )\n",
        "\n",
        "  def forward(self, x):\n",
        "    print(x.shape)\n",
        "    x = self.cnn_model(x) # calling cnn_model \n",
        "    print(x.shape)\n",
        "    x = x.view(x.size(0),-1)  # then reshaping (the input needs to be flattened before passing it into the fully connected layer)\n",
        "    print(x.shape)\n",
        "    x = self.fc_model(x)    # then calling fc_model\n",
        "    print(x.shape)\n",
        "    return x  "
      ],
      "execution_count": 0,
      "outputs": []
    },
    {
      "cell_type": "code",
      "metadata": {
        "id": "hydbzNEZAspK",
        "colab_type": "code",
        "outputId": "8960fa34-72f7-4c4e-b1d5-9df5d8cd2026",
        "colab": {
          "base_uri": "https://localhost:8080/",
          "height": 85
        }
      },
      "source": [
        "net = LeNet()\n",
        "out = net(images)"
      ],
      "execution_count": 25,
      "outputs": [
        {
          "output_type": "stream",
          "text": [
            "torch.Size([4, 3, 32, 32])\n",
            "torch.Size([4, 16, 5, 5])\n",
            "torch.Size([4, 400])\n",
            "torch.Size([4, 10])\n"
          ],
          "name": "stdout"
        }
      ]
    },
    {
      "cell_type": "code",
      "metadata": {
        "id": "UHcTlTWlBoWs",
        "colab_type": "code",
        "outputId": "a64b5ca8-a340-4f74-a859-41d36cbbbc09",
        "colab": {
          "base_uri": "https://localhost:8080/",
          "height": 153
        }
      },
      "source": [
        "print(out)"
      ],
      "execution_count": 26,
      "outputs": [
        {
          "output_type": "stream",
          "text": [
            "tensor([[ 0.0526,  0.1464, -0.0852,  0.1170, -0.0105, -0.1263, -0.0755, -0.0839,\n",
            "         -0.0541,  0.0697],\n",
            "        [ 0.0560,  0.1468, -0.0734,  0.1146, -0.0096, -0.1116, -0.0794, -0.0862,\n",
            "         -0.0686,  0.0523],\n",
            "        [ 0.0593,  0.1528, -0.0661,  0.1304, -0.0096, -0.1083, -0.0749, -0.0805,\n",
            "         -0.0603,  0.0735],\n",
            "        [ 0.0545,  0.1526, -0.0614,  0.1267,  0.0124, -0.1150, -0.0483, -0.0979,\n",
            "         -0.0726,  0.0764]], grad_fn=<AddmmBackward>)\n"
          ],
          "name": "stdout"
        }
      ]
    },
    {
      "cell_type": "code",
      "metadata": {
        "id": "poTvilaoCK-J",
        "colab_type": "code",
        "outputId": "027922f6-f14f-42b3-9942-97cc8aa26ad1",
        "colab": {
          "base_uri": "https://localhost:8080/",
          "height": 34
        }
      },
      "source": [
        "max_values, pred_class = torch.max(out.data, 1)\n",
        "print(pred_class)"
      ],
      "execution_count": 27,
      "outputs": [
        {
          "output_type": "stream",
          "text": [
            "tensor([1, 1, 1, 1])\n"
          ],
          "name": "stdout"
        }
      ]
    },
    {
      "cell_type": "markdown",
      "metadata": {
        "id": "rOHTnA9aFCoF",
        "colab_type": "text"
      },
      "source": [
        "# Training LeNet"
      ]
    },
    {
      "cell_type": "code",
      "metadata": {
        "id": "jAk9Qnh8CsxV",
        "colab_type": "code",
        "colab": {}
      },
      "source": [
        "class LeNet(nn.Module):\n",
        "  def __init__(self):\n",
        "    super(LeNet, self).__init__()\n",
        "    self.cnn_model = nn.Sequential(\n",
        "        nn.Conv2d(3, 6, 5),                                # (N, 3, 32, 32) -> (N, 6, 28, 28)\n",
        "        nn.Tanh(),\n",
        "        nn.AvgPool2d(2, stride=2),                         #(N, 6, 28, 28) -> (N, 6, 14, 14)\n",
        "        nn.Conv2d(6, 16, 5),                               # (N, 6, 14, 14) -> (N, 16, 10, 10)\n",
        "        nn.Tanh(),\n",
        "        nn.AvgPool2d(2, stride=2)                          #(N, 16, 10, 10) -> (N, 16, 5, 5)\n",
        "    )\n",
        "    self.fc_model = nn.Sequential(\n",
        "        nn.Linear(400, 120),                               # (N, 400) -> (N, 120)   reshaping\n",
        "        nn.Tanh(),\n",
        "        nn.Linear(120, 84),                                # (N, 120) -> (N, 84)   \n",
        "        nn.Tanh(),\n",
        "        nn.Linear(84,10)                                   # (N, 84) -> (N, 10) \n",
        "    )\n",
        "\n",
        "  def forward(self, x):\n",
        "    x = self.cnn_model(x) # calling cnn_model \n",
        "    x = x.view(x.size(0),-1)  # then reshaping (the input needs to be flattened before passing it into the fully connected layer)\n",
        "    x = self.fc_model(x)    # then calling fc_model\n",
        "    return x"
      ],
      "execution_count": 0,
      "outputs": []
    },
    {
      "cell_type": "code",
      "metadata": {
        "id": "5X5vZM-NFf8t",
        "colab_type": "code",
        "outputId": "334f546a-11c7-4f76-bd08-211b12b94d72",
        "colab": {
          "base_uri": "https://localhost:8080/",
          "height": 51
        }
      },
      "source": [
        "batch_size = 128\n",
        "trainset = torchvision.datasets.CIFAR10(root='./data', train=True, download=True, transform=transforms.ToTensor())\n",
        "trainloader = torch.utils.data.DataLoader(trainset, batch_size=batch_size, shuffle=True)\n",
        "testset = torchvision.datasets.CIFAR10(root='./data', train=False, download=True, transform=transforms.ToTensor())\n",
        "testloader = torch.utils.data.DataLoader(testset, batch_size=batch_size, shuffle=False)"
      ],
      "execution_count": 29,
      "outputs": [
        {
          "output_type": "stream",
          "text": [
            "Files already downloaded and verified\n",
            "Files already downloaded and verified\n"
          ],
          "name": "stdout"
        }
      ]
    },
    {
      "cell_type": "code",
      "metadata": {
        "id": "5ZBVbHu_GI4r",
        "colab_type": "code",
        "colab": {}
      },
      "source": [
        "def evaluation(dataloader):\n",
        "  total, correct = 0,0\n",
        "  for data in dataloader:\n",
        "    inputs, labels = data # ground truth\n",
        "    outputs = net(inputs) # model prediction\n",
        "    _, pred = torch.max(outputs.data, 1)\n",
        "    total += labels.size(0)\n",
        "    correct += (pred == labels).sum().item()\n",
        "  return 100 * correct / total  "
      ],
      "execution_count": 0,
      "outputs": []
    },
    {
      "cell_type": "code",
      "metadata": {
        "id": "UujkV9TvHBS-",
        "colab_type": "code",
        "colab": {}
      },
      "source": [
        "net = LeNet()"
      ],
      "execution_count": 0,
      "outputs": []
    },
    {
      "cell_type": "markdown",
      "metadata": {
        "id": "e6E_39WdH5iZ",
        "colab_type": "text"
      },
      "source": [
        "defining loss function and optimizer"
      ]
    },
    {
      "cell_type": "code",
      "metadata": {
        "id": "sDV6TjI8HHxz",
        "colab_type": "code",
        "colab": {}
      },
      "source": [
        "import torch.optim as optim\n",
        "\n",
        "loss_fn = nn.CrossEntropyLoss()\n",
        "opt = optim.Adam(net.parameters())"
      ],
      "execution_count": 0,
      "outputs": []
    },
    {
      "cell_type": "code",
      "metadata": {
        "id": "4cLsofN0HK7m",
        "colab_type": "code",
        "outputId": "fda6a59d-eac0-4555-efef-70c4d48db44a",
        "colab": {
          "base_uri": "https://localhost:8080/",
          "height": 51
        }
      },
      "source": [
        "%%time\n",
        "#loss_arr = []\n",
        "#loss_epoch_arr = []\n",
        "#max_epochs = 16\n",
        "\n",
        "#for epoch in range(max_epochs):\n",
        "\n",
        "  #for i, data in enumerate(trainloader, 0):\n",
        "\n",
        "    #inputs, labels = data  \n",
        "\n",
        "    #opt.zero_grad()   # reset previous gradient\n",
        "\n",
        "    #outputs = net(inputs) # forward pass\n",
        "    #loss = loss_fn(outputs, labels)  # loss computation\n",
        "    #loss.backward()       # losss backward pass\n",
        "    #opt.step()            # updating parameters\n",
        "\n",
        "    #loss_arr.append(loss.item()) # storing loss\n",
        "\n",
        "  #loss_epoch_arr.append(loss.item())\n",
        "\n",
        "  #print('Epoch: %d/%d, Test acc: %0.2f, Train acc: %0.2f'%(epoch, max_epochs, evaluation(testloader), evaluation(trainloader)))  \n",
        "\n",
        "#plt.plot(loss_epoch_arr)\n",
        "#plt.show()\n"
      ],
      "execution_count": 36,
      "outputs": [
        {
          "output_type": "stream",
          "text": [
            "CPU times: user 3 µs, sys: 0 ns, total: 3 µs\n",
            "Wall time: 8.11 µs\n"
          ],
          "name": "stdout"
        }
      ]
    },
    {
      "cell_type": "markdown",
      "metadata": {
        "id": "5_kSrqQaOxHM",
        "colab_type": "text"
      },
      "source": [
        "# Move to GPU"
      ]
    },
    {
      "cell_type": "code",
      "metadata": {
        "id": "rnwvdCKCJvCV",
        "colab_type": "code",
        "outputId": "a374174d-0d74-4b33-c50b-5497b09ad79b",
        "colab": {
          "base_uri": "https://localhost:8080/",
          "height": 34
        }
      },
      "source": [
        "device = torch.device(\"cuda:0\" if torch.cuda.is_available() else \"cpu\")\n",
        "print(device)"
      ],
      "execution_count": 37,
      "outputs": [
        {
          "output_type": "stream",
          "text": [
            "cuda:0\n"
          ],
          "name": "stdout"
        }
      ]
    },
    {
      "cell_type": "code",
      "metadata": {
        "id": "xeAsM-ZoPAEO",
        "colab_type": "code",
        "colab": {}
      },
      "source": [
        "def evaluation(dataloader):\n",
        "  total, correct = 0,0\n",
        "  for data in dataloader:\n",
        "    inputs, labels = data # ground truth\n",
        "    inputs, labels = inputs.to(device), labels.to(device)\n",
        "    outputs = net(inputs) # model prediction\n",
        "    _, pred = torch.max(outputs.data, 1)\n",
        "    total += labels.size(0)\n",
        "    correct += (pred == labels).sum().item()\n",
        "  return 100 * correct / total  "
      ],
      "execution_count": 0,
      "outputs": []
    },
    {
      "cell_type": "code",
      "metadata": {
        "id": "Q3R_5UbsPS_1",
        "colab_type": "code",
        "colab": {}
      },
      "source": [
        "net = LeNet().to(device)\n",
        "loss_fn = nn.CrossEntropyLoss()\n",
        "opt = optim.Adam(net.parameters())"
      ],
      "execution_count": 0,
      "outputs": []
    },
    {
      "cell_type": "code",
      "metadata": {
        "id": "j2EPJHiDPf5I",
        "colab_type": "code",
        "outputId": "12c8a768-687d-43cc-c698-72ebba3f456d",
        "colab": {
          "base_uri": "https://localhost:8080/",
          "height": 323
        }
      },
      "source": [
        "%%time\n",
        "max_epochs = 16\n",
        "\n",
        "for epoch in range(max_epochs):\n",
        "\n",
        "  for i, data in enumerate(trainloader, 0):\n",
        "\n",
        "    inputs, labels = data  \n",
        "    inputs, labels = inputs.to(device), labels.to(device)\n",
        "\n",
        "    opt.zero_grad()                  # reset previous gradient\n",
        "\n",
        "    outputs = net(inputs)            # forward pass\n",
        "    loss = loss_fn(outputs, labels)  # loss computation\n",
        "    loss.backward()       # losss backward pass\n",
        "    opt.step()            # updating parameters\n",
        "\n",
        "  print('Epoch: %d/%d'%(epoch, max_epochs))  \n",
        "\n"
      ],
      "execution_count": 40,
      "outputs": [
        {
          "output_type": "stream",
          "text": [
            "Epoch: 0/16\n",
            "Epoch: 1/16\n",
            "Epoch: 2/16\n",
            "Epoch: 3/16\n",
            "Epoch: 4/16\n",
            "Epoch: 5/16\n",
            "Epoch: 6/16\n",
            "Epoch: 7/16\n",
            "Epoch: 8/16\n",
            "Epoch: 9/16\n",
            "Epoch: 10/16\n",
            "Epoch: 11/16\n",
            "Epoch: 12/16\n",
            "Epoch: 13/16\n",
            "Epoch: 14/16\n",
            "Epoch: 15/16\n",
            "CPU times: user 2min 12s, sys: 1.17 s, total: 2min 13s\n",
            "Wall time: 2min 14s\n"
          ],
          "name": "stdout"
        }
      ]
    },
    {
      "cell_type": "code",
      "metadata": {
        "id": "v80q1UCfQFaW",
        "colab_type": "code",
        "outputId": "ed0aa2f3-5e70-4129-8775-82e2f71ee662",
        "colab": {
          "base_uri": "https://localhost:8080/",
          "height": 34
        }
      },
      "source": [
        "print('Epoch: %d/%d, Test acc: %0.2f, Train acc: %0.2f'%(epoch, max_epochs, evaluation(testloader), evaluation(trainloader)))  \n"
      ],
      "execution_count": 41,
      "outputs": [
        {
          "output_type": "stream",
          "text": [
            "Epoch: 15/16, Test acc: 55.48, Train acc: 65.84\n"
          ],
          "name": "stdout"
        }
      ]
    },
    {
      "cell_type": "markdown",
      "metadata": {
        "id": "2CYryJBRD0rz",
        "colab_type": "text"
      },
      "source": [
        "# Basic Visualisation"
      ]
    },
    {
      "cell_type": "code",
      "metadata": {
        "id": "ngWa3JIlD5x_",
        "colab_type": "code",
        "colab": {
          "base_uri": "https://localhost:8080/",
          "height": 138
        },
        "outputId": "5b632765-8e03-46d1-8b24-da55d13cb223"
      },
      "source": [
        "imshow(torchvision.utils.make_grid(images))"
      ],
      "execution_count": 42,
      "outputs": [
        {
          "output_type": "display_data",
          "data": {
            "image/png": "[encoded data removed]",
            "text/plain": [
              "<Figure size 432x288 with 1 Axes>"
            ]
          },
          "metadata": {
            "tags": [],
            "needs_background": "light"
          }
        }
      ]
    },
    {
      "cell_type": "code",
      "metadata": {
        "id": "VIPeApSmECTY",
        "colab_type": "code",
        "colab": {}
      },
      "source": [
        "net = net.to('cpu')"
      ],
      "execution_count": 0,
      "outputs": []
    },
    {
      "cell_type": "code",
      "metadata": {
        "id": "em6IHsksELvl",
        "colab_type": "code",
        "colab": {}
      },
      "source": [
        "out = net(images)"
      ],
      "execution_count": 0,
      "outputs": []
    },
    {
      "cell_type": "code",
      "metadata": {
        "id": "lNq7oNLfEN7_",
        "colab_type": "code",
        "colab": {
          "base_uri": "https://localhost:8080/",
          "height": 34
        },
        "outputId": "d4940e47-89a2-46be-efea-658a0b3e55b2"
      },
      "source": [
        "out = net.cnn_model[0](images)\n",
        "out.shape"
      ],
      "execution_count": 45,
      "outputs": [
        {
          "output_type": "execute_result",
          "data": {
            "text/plain": [
              "torch.Size([4, 6, 28, 28])"
            ]
          },
          "metadata": {
            "tags": []
          },
          "execution_count": 45
        }
      ]
    },
    {
      "cell_type": "code",
      "metadata": {
        "id": "jZ1XKnY4ETsE",
        "colab_type": "code",
        "colab": {
          "base_uri": "https://localhost:8080/",
          "height": 159
        },
        "outputId": "9cbe3d1d-53c9-444e-d880-21cb1f5847d6"
      },
      "source": [
        "image_id = 3\n",
        "plt.figure(figsize = (2,2))\n",
        "imshow(images[image_id,])"
      ],
      "execution_count": 46,
      "outputs": [
        {
          "output_type": "display_data",
          "data": {
            "image/png": "[encoded data removed]",
            "text/plain": [
              "<Figure size 144x144 with 1 Axes>"
            ]
          },
          "metadata": {
            "tags": [],
            "needs_background": "light"
          }
        }
      ]
    },
    {
      "cell_type": "markdown",
      "metadata": {
        "id": "r1b8zDjGIGgv",
        "colab_type": "text"
      },
      "source": [
        "Below are the six channel of image 4 after first convolutional layer"
      ]
    },
    {
      "cell_type": "code",
      "metadata": {
        "id": "gGT-23ZHEftI",
        "colab_type": "code",
        "colab": {
          "base_uri": "https://localhost:8080/",
          "height": 430
        },
        "outputId": "b4bd853f-0e77-45b4-c7f5-b871685852e1"
      },
      "source": [
        "plt.figure(figsize = (6,6))\n",
        "plt.subplot(321)\n",
        "for i in range(6):\n",
        "  ax1 = plt.subplot(3, 2, i+1)\n",
        "  plt.imshow(out[image_id, i, :, :].detach().numpy(), cmap=\"binary\")\n",
        "plt.show()  "
      ],
      "execution_count": 47,
      "outputs": [
        {
          "output_type": "stream",
          "text": [
            "/usr/local/lib/python3.6/dist-packages/ipykernel_launcher.py:4: MatplotlibDeprecationWarning: Adding an axes using the same arguments as a previous axes currently reuses the earlier instance.  In a future version, a new instance will always be created and returned.  Meanwhile, this warning can be suppressed, and the future behavior ensured, by passing a unique label to each axes instance.\n",
            "  after removing the cwd from sys.path.\n"
          ],
          "name": "stderr"
        },
        {
          "output_type": "display_data",
          "data": {
            "image/png": "[encoded data removed]",
            "text/plain": [
              "<Figure size 432x432 with 6 Axes>"
            ]
          },
          "metadata": {
            "tags": [],
            "needs_background": "light"
          }
        }
      ]
    },
    {
      "cell_type": "markdown",
      "metadata": {
        "id": "wpDGsZ_ILnIE",
        "colab_type": "text"
      },
      "source": [
        "# Exercise\n",
        "\n",
        "*   Modify LeNet to work with ReLU instead of Tanh\n",
        "*   Use weight_decay in torch.optim to add L2 regularistion\n",
        "\n"
      ]
    },
    {
      "cell_type": "code",
      "metadata": {
        "id": "yFYCic9dE7zh",
        "colab_type": "code",
        "colab": {}
      },
      "source": [
        "import torch.nn.functional as F\n",
        "\n",
        "class LeNet_v1(nn.Module):\n",
        "  def __init__(self):\n",
        "    super(LeNet_v1, self).__init__()\n",
        "    self.cnn_model = nn.Sequential(\n",
        "        nn.Conv2d(3, 6, 5),                                # (N, 3, 32, 32) -> (N, 6, 28, 28)\n",
        "        nn.ReLU(),\n",
        "        nn.AvgPool2d(2, stride=2),                         #(N, 6, 28, 28) -> (N, 6, 14, 14)\n",
        "        nn.Conv2d(6, 16, 5),                               # (N, 6, 14, 14) -> (N, 16, 10, 10)\n",
        "        nn.ReLU(),\n",
        "        nn.AvgPool2d(2, stride=2)                          #(N, 16, 10, 10) -> (N, 16, 5, 5)\n",
        "    )\n",
        "    self.fc_model = nn.Sequential(\n",
        "        nn.Linear(400, 120),                               # (N, 400) -> (N, 120)   reshaping\n",
        "        nn.ReLU(),\n",
        "        nn.Linear(120, 84),                                # (N, 120) -> (N, 84)   \n",
        "        nn.ReLU(),\n",
        "        nn.Linear(84,10)                                   # (N, 84) -> (N, 10) \n",
        "    )\n",
        "\n",
        "  def forward(self, x):\n",
        "    x = self.cnn_model(x) # calling cnn_model \n",
        "    x = x.view(x.size(0),-1)  # then reshaping (the input needs to be flattened before passing it into the fully connected layer)\n",
        "    x = self.fc_model(x)    # then calling fc_model\n",
        "    return x"
      ],
      "execution_count": 0,
      "outputs": []
    },
    {
      "cell_type": "code",
      "metadata": {
        "id": "YX1ZEaatL9YL",
        "colab_type": "code",
        "colab": {
          "base_uri": "https://localhost:8080/",
          "height": 51
        },
        "outputId": "1a60cd36-c2d7-4a9f-ed4b-ae2bfc54ccf2"
      },
      "source": [
        "batch_size = 128\n",
        "trainset = torchvision.datasets.CIFAR10(root='./data', train=True, download=True, transform=transforms.ToTensor())\n",
        "trainloader = torch.utils.data.DataLoader(trainset, batch_size=batch_size, shuffle=True)\n",
        "testset = torchvision.datasets.CIFAR10(root='./data', train=False, download=True, transform=transforms.ToTensor())\n",
        "testloader = torch.utils.data.DataLoader(testset, batch_size=batch_size, shuffle=False)"
      ],
      "execution_count": 49,
      "outputs": [
        {
          "output_type": "stream",
          "text": [
            "Files already downloaded and verified\n",
            "Files already downloaded and verified\n"
          ],
          "name": "stdout"
        }
      ]
    },
    {
      "cell_type": "code",
      "metadata": {
        "id": "ziLRSNkTMFIu",
        "colab_type": "code",
        "colab": {}
      },
      "source": [
        "def evaluation_v1(dataloader):\n",
        "  total, correct = 0,0\n",
        "  for data in dataloader:\n",
        "    inputs, labels = data # ground truth\n",
        "    inputs, labels = inputs.to(device), labels.to(device)\n",
        "    outputs = net(inputs) # model prediction\n",
        "    _, pred = torch.max(outputs.data, 1)\n",
        "    total += labels.size(0)\n",
        "    correct += (pred == labels).sum().item()\n",
        "  return 100 * correct / total  "
      ],
      "execution_count": 0,
      "outputs": []
    },
    {
      "cell_type": "code",
      "metadata": {
        "id": "oBRf0NEOMKLd",
        "colab_type": "code",
        "colab": {}
      },
      "source": [
        "net = LeNet_v1().to(device)\n",
        "loss_fn = nn.CrossEntropyLoss()\n",
        "opt = optim.Adam(net.parameters(),lr=0.001, betas=(0.9, 0.999), eps=1e-08, weight_decay=0, amsgrad=False)"
      ],
      "execution_count": 0,
      "outputs": []
    },
    {
      "cell_type": "code",
      "metadata": {
        "id": "aA404ImBQYeA",
        "colab_type": "code",
        "colab": {
          "base_uri": "https://localhost:8080/",
          "height": 1000
        },
        "outputId": "62140b7d-0c4b-4e95-c577-2c9d98be23a7"
      },
      "source": [
        "%%time\n",
        "loss_epoch_arr_v1 = []\n",
        "max_epochs = 100\n",
        "\n",
        "for epoch in range(max_epochs):\n",
        "\n",
        "  for i, data in enumerate(trainloader, 0):\n",
        "\n",
        "    inputs, labels = data  \n",
        "    inputs, labels = inputs.to(device), labels.to(device)\n",
        "\n",
        "    opt.zero_grad()                  # reset previous gradient\n",
        "\n",
        "    outputs = net(inputs)            # forward pass\n",
        "    loss = loss_fn(outputs, labels)  # loss computation\n",
        "    loss.backward()       # losss backward pass\n",
        "    opt.step()            # updating parameters\n",
        "\n",
        "  loss_epoch_arr_v1.append(loss.item())\n",
        "\n",
        "  print('Epoch: %d/%d, Test acc: %0.2f, Train acc: %0.2f'%(epoch, max_epochs, evaluation_v1(testloader), evaluation_v1(trainloader)))    \n",
        "\n",
        "plt.plot(loss_epoch_arr_v1)\n",
        "plt.show()\n"
      ],
      "execution_count": 52,
      "outputs": [
        {
          "output_type": "stream",
          "text": [
            "Epoch: 0/100, Test acc: 34.70, Train acc: 33.88\n",
            "Epoch: 1/100, Test acc: 43.44, Train acc: 43.52\n",
            "Epoch: 2/100, Test acc: 47.19, Train acc: 47.00\n",
            "Epoch: 3/100, Test acc: 48.58, Train acc: 49.13\n",
            "Epoch: 4/100, Test acc: 49.63, Train acc: 50.47\n",
            "Epoch: 5/100, Test acc: 50.61, Train acc: 51.77\n",
            "Epoch: 6/100, Test acc: 51.64, Train acc: 53.29\n",
            "Epoch: 7/100, Test acc: 52.27, Train acc: 54.29\n",
            "Epoch: 8/100, Test acc: 54.16, Train acc: 56.75\n",
            "Epoch: 9/100, Test acc: 54.06, Train acc: 57.37\n",
            "Epoch: 10/100, Test acc: 54.15, Train acc: 57.99\n",
            "Epoch: 11/100, Test acc: 55.91, Train acc: 59.77\n",
            "Epoch: 12/100, Test acc: 55.54, Train acc: 59.91\n",
            "Epoch: 13/100, Test acc: 56.15, Train acc: 60.74\n",
            "Epoch: 14/100, Test acc: 56.80, Train acc: 61.56\n",
            "Epoch: 15/100, Test acc: 57.38, Train acc: 62.49\n",
            "Epoch: 16/100, Test acc: 57.09, Train acc: 63.19\n",
            "Epoch: 17/100, Test acc: 57.89, Train acc: 63.83\n",
            "Epoch: 18/100, Test acc: 57.83, Train acc: 64.33\n",
            "Epoch: 19/100, Test acc: 58.16, Train acc: 64.44\n",
            "Epoch: 20/100, Test acc: 57.94, Train acc: 64.88\n",
            "Epoch: 21/100, Test acc: 58.26, Train acc: 65.72\n",
            "Epoch: 22/100, Test acc: 58.99, Train acc: 66.48\n",
            "Epoch: 23/100, Test acc: 59.19, Train acc: 67.39\n",
            "Epoch: 24/100, Test acc: 59.62, Train acc: 67.73\n",
            "Epoch: 25/100, Test acc: 58.64, Train acc: 66.79\n",
            "Epoch: 26/100, Test acc: 59.48, Train acc: 68.71\n",
            "Epoch: 27/100, Test acc: 59.36, Train acc: 68.74\n",
            "Epoch: 28/100, Test acc: 58.84, Train acc: 68.08\n",
            "Epoch: 29/100, Test acc: 59.55, Train acc: 69.58\n",
            "Epoch: 30/100, Test acc: 59.45, Train acc: 69.73\n",
            "Epoch: 31/100, Test acc: 60.02, Train acc: 70.53\n",
            "Epoch: 32/100, Test acc: 59.25, Train acc: 69.54\n",
            "Epoch: 33/100, Test acc: 58.86, Train acc: 69.25\n",
            "Epoch: 34/100, Test acc: 59.43, Train acc: 71.76\n",
            "Epoch: 35/100, Test acc: 59.62, Train acc: 71.60\n",
            "Epoch: 36/100, Test acc: 59.78, Train acc: 72.15\n",
            "Epoch: 37/100, Test acc: 59.83, Train acc: 72.10\n",
            "Epoch: 38/100, Test acc: 59.83, Train acc: 72.87\n",
            "Epoch: 39/100, Test acc: 60.15, Train acc: 73.21\n",
            "Epoch: 40/100, Test acc: 59.69, Train acc: 73.32\n",
            "Epoch: 41/100, Test acc: 60.00, Train acc: 73.71\n",
            "Epoch: 42/100, Test acc: 59.50, Train acc: 73.73\n",
            "Epoch: 43/100, Test acc: 59.67, Train acc: 73.37\n",
            "Epoch: 44/100, Test acc: 59.92, Train acc: 73.96\n",
            "Epoch: 45/100, Test acc: 59.35, Train acc: 74.74\n",
            "Epoch: 46/100, Test acc: 59.66, Train acc: 74.65\n",
            "Epoch: 47/100, Test acc: 59.49, Train acc: 74.47\n",
            "Epoch: 48/100, Test acc: 59.59, Train acc: 74.88\n",
            "Epoch: 49/100, Test acc: 58.96, Train acc: 74.86\n",
            "Epoch: 50/100, Test acc: 59.87, Train acc: 76.46\n",
            "Epoch: 51/100, Test acc: 59.55, Train acc: 75.78\n",
            "Epoch: 52/100, Test acc: 59.37, Train acc: 76.24\n",
            "Epoch: 53/100, Test acc: 59.17, Train acc: 76.27\n",
            "Epoch: 54/100, Test acc: 59.49, Train acc: 77.00\n",
            "Epoch: 55/100, Test acc: 59.25, Train acc: 75.56\n",
            "Epoch: 56/100, Test acc: 59.12, Train acc: 77.34\n",
            "Epoch: 57/100, Test acc: 59.07, Train acc: 77.34\n",
            "Epoch: 58/100, Test acc: 59.08, Train acc: 77.71\n",
            "Epoch: 59/100, Test acc: 57.92, Train acc: 74.62\n",
            "Epoch: 60/100, Test acc: 58.42, Train acc: 77.23\n",
            "Epoch: 61/100, Test acc: 58.78, Train acc: 77.72\n",
            "Epoch: 62/100, Test acc: 58.73, Train acc: 78.19\n",
            "Epoch: 63/100, Test acc: 58.95, Train acc: 78.30\n",
            "Epoch: 64/100, Test acc: 58.05, Train acc: 78.60\n",
            "Epoch: 65/100, Test acc: 58.80, Train acc: 78.04\n",
            "Epoch: 66/100, Test acc: 59.45, Train acc: 79.33\n",
            "Epoch: 67/100, Test acc: 58.34, Train acc: 78.81\n",
            "Epoch: 68/100, Test acc: 58.42, Train acc: 79.84\n",
            "Epoch: 69/100, Test acc: 58.49, Train acc: 79.68\n",
            "Epoch: 70/100, Test acc: 58.53, Train acc: 80.39\n",
            "Epoch: 71/100, Test acc: 58.54, Train acc: 80.58\n",
            "Epoch: 72/100, Test acc: 58.59, Train acc: 80.60\n",
            "Epoch: 73/100, Test acc: 58.08, Train acc: 80.08\n",
            "Epoch: 74/100, Test acc: 58.39, Train acc: 80.42\n",
            "Epoch: 75/100, Test acc: 58.02, Train acc: 79.44\n",
            "Epoch: 76/100, Test acc: 58.58, Train acc: 81.09\n",
            "Epoch: 77/100, Test acc: 58.23, Train acc: 81.07\n",
            "Epoch: 78/100, Test acc: 57.92, Train acc: 80.20\n",
            "Epoch: 79/100, Test acc: 57.79, Train acc: 80.88\n",
            "Epoch: 80/100, Test acc: 57.60, Train acc: 81.01\n",
            "Epoch: 81/100, Test acc: 57.59, Train acc: 81.04\n",
            "Epoch: 82/100, Test acc: 58.29, Train acc: 81.91\n",
            "Epoch: 83/100, Test acc: 57.37, Train acc: 79.36\n",
            "Epoch: 84/100, Test acc: 58.00, Train acc: 81.76\n",
            "Epoch: 85/100, Test acc: 57.56, Train acc: 81.40\n",
            "Epoch: 86/100, Test acc: 57.63, Train acc: 81.39\n",
            "Epoch: 87/100, Test acc: 56.98, Train acc: 80.07\n",
            "Epoch: 88/100, Test acc: 57.66, Train acc: 83.22\n",
            "Epoch: 89/100, Test acc: 57.41, Train acc: 82.10\n",
            "Epoch: 90/100, Test acc: 57.54, Train acc: 83.05\n",
            "Epoch: 91/100, Test acc: 57.24, Train acc: 81.52\n",
            "Epoch: 92/100, Test acc: 57.40, Train acc: 82.39\n",
            "Epoch: 93/100, Test acc: 56.92, Train acc: 82.42\n",
            "Epoch: 94/100, Test acc: 57.49, Train acc: 81.93\n",
            "Epoch: 95/100, Test acc: 57.78, Train acc: 83.26\n",
            "Epoch: 96/100, Test acc: 56.82, Train acc: 81.89\n",
            "Epoch: 97/100, Test acc: 57.46, Train acc: 83.50\n",
            "Epoch: 98/100, Test acc: 57.18, Train acc: 82.77\n",
            "Epoch: 99/100, Test acc: 56.96, Train acc: 83.13\n"
          ],
          "name": "stdout"
        },
        {
          "output_type": "display_data",
          "data": {
            "image/png": "[encoded data removed]",
            "text/plain": [
              "<Figure size 432x288 with 1 Axes>"
            ]
          },
          "metadata": {
            "tags": [],
            "needs_background": "light"
          }
        },
        {
          "output_type": "stream",
          "text": [
            "CPU times: user 28min 38s, sys: 33.1 s, total: 29min 11s\n",
            "Wall time: 29min 15s\n"
          ],
          "name": "stdout"
        }
      ]
    },
    {
      "cell_type": "code",
      "metadata": {
        "id": "2rq6113hSzac",
        "colab_type": "code",
        "colab": {}
      },
      "source": [
        ""
      ],
      "execution_count": 0,
      "outputs": []
    }
  ]
}